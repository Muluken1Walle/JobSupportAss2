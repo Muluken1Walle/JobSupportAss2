{
  "nbformat": 4,
  "nbformat_minor": 0,
  "metadata": {
    "colab": {
      "name": "JobSupportAss2.ipynb",
      "provenance": [],
      "authorship_tag": "ABX9TyNnZ3jGzIQXJU7kUJ+blGUQ",
      "include_colab_link": true
    },
    "kernelspec": {
      "name": "python3",
      "display_name": "Python 3"
    },
    "language_info": {
      "name": "python"
    }
  },
  "cells": [
    {
      "cell_type": "markdown",
      "metadata": {
        "id": "view-in-github",
        "colab_type": "text"
      },
      "source": [
        "<a href=\"https://colab.research.google.com/github/Muluken1Walle/JobSupportAss2/blob/main/JobSupportAss2.ipynb\" target=\"_parent\"><img src=\"https://colab.research.google.com/assets/colab-badge.svg\" alt=\"Open In Colab\"/></a>"
      ]
    },
    {
      "cell_type": "code",
      "execution_count": 3,
      "metadata": {
        "colab": {
          "base_uri": "https://localhost:8080/"
        },
        "id": "nyujeYgYTYXd",
        "outputId": "09c369ef-9526-4625-93fa-b19496624b66"
      },
      "outputs": [
        {
          "output_type": "stream",
          "name": "stdout",
          "text": [
            "Enter The Number : 7\n",
            "7 x 1 = 7\n",
            "7 x 2 = 14\n",
            "7 x 3 = 21\n",
            "7 x 4 = 28\n",
            "7 x 5 = 35\n",
            "7 x 6 = 42\n",
            "7 x 7 = 49\n",
            "7 x 8 = 56\n",
            "7 x 9 = 63\n",
            "7 x 10 = 70\n"
          ]
        }
      ],
      "source": [
        "# Write a Python Program to Print Table of a Given Number?\n",
        "# Example:\n",
        "#    Enter the number to print the tables for:7\n",
        "y=int(input(\"Enter The Number : \"))\n",
        "\n",
        "x=1\n",
        "\n",
        "while(x<=10):\n",
        "    z=y*x\n",
        "    print(y,\"x\",x,\"=\",z)\n",
        "    x=x+1\n"
      ]
    },
    {
      "cell_type": "code",
      "source": [
        "#  Write python program to print double sided stair-case pattern\n",
        "# Example:\n",
        "#    Input : 10\n",
        "#    Output :\n",
        "\n",
        "def pattern(x):# function definition\n",
        "    for y in range(1,x+1): # for loop for rows\n",
        "        z =y + 1 if(y % 2 != 0) else y # conditional operator\n",
        "        for a in range(z,x):# for loop for printing spaces\n",
        "            if a>=z:\n",
        "                print(end=\"  \")\n",
        "        for j in range(0,z):\n",
        "            if j == z - 1:\n",
        "                print(\" * \")\n",
        "            else:\n",
        "                print(\" * \", end = \" \")\n",
        "n = 10  # pattern\n",
        "pattern(n)\n",
        "  "
      ],
      "metadata": {
        "colab": {
          "base_uri": "https://localhost:8080/"
        },
        "id": "pj8Km1KzTvnS",
        "outputId": "482ff672-46c0-4b4f-b637-17a43c91d3e1"
      },
      "execution_count": 4,
      "outputs": [
        {
          "output_type": "stream",
          "name": "stdout",
          "text": [
            "                 *   * \n",
            "                 *   * \n",
            "             *   *   *   * \n",
            "             *   *   *   * \n",
            "         *   *   *   *   *   * \n",
            "         *   *   *   *   *   * \n",
            "     *   *   *   *   *   *   *   * \n",
            "     *   *   *   *   *   *   *   * \n",
            " *   *   *   *   *   *   *   *   *   * \n",
            " *   *   *   *   *   *   *   *   *   * \n"
          ]
        }
      ]
    }
  ]
}